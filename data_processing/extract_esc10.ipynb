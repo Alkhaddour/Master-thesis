{
 "cells": [
  {
   "cell_type": "code",
   "execution_count": 42,
   "id": "64b756cd",
   "metadata": {},
   "outputs": [],
   "source": [
    "import sys\n",
    "sys.path.append(\"../\")\n",
    "import os\n",
    "import pandas as pd\n",
    "from tqdm import tqdm\n",
    "import webrtcvad\n",
    "from utils.basic_utils import make_valid_path\n",
    "from utils.audio_utils import remove_silence, byte_to_float, get_wav_len"
   ]
  },
  {
   "cell_type": "code",
   "execution_count": 43,
   "id": "1b413eaa",
   "metadata": {},
   "outputs": [],
   "source": [
    "esc_raw_path_in = '/home/alhasan/workdir/SED/data/ESC-50/raw/audio_16k'"
   ]
  },
  {
   "cell_type": "code",
   "execution_count": 44,
   "id": "419687cd",
   "metadata": {},
   "outputs": [],
   "source": [
    "# read csv\n",
    "esc_50 = pd.read_csv('/home/alhasan/workdir/SED/data/ESC-50/esc50.csv')\n",
    "# extract esc10 files\n",
    "esc_10 = esc_50.loc[esc_50['esc10'] == True].reset_index()[['filename', 'fold', 'category']].rename({'category': 'event'}, axis=1)\n",
    "events = esc_10['event'].unique().tolist()\n",
    "esc_10['event_id'] = esc_10['event'].apply(events.index)\n",
    "esc_10['esc10'] = True\n",
    "# save csv\n",
    "esc_10.to_csv('/home/alhasan/workdir/SED/data/ESC-50/esc10.csv')"
   ]
  },
  {
   "cell_type": "code",
   "execution_count": 45,
   "id": "67e0aab7",
   "metadata": {},
   "outputs": [
    {
     "data": {
      "text/html": [
       "<div>\n",
       "<style scoped>\n",
       "    .dataframe tbody tr th:only-of-type {\n",
       "        vertical-align: middle;\n",
       "    }\n",
       "\n",
       "    .dataframe tbody tr th {\n",
       "        vertical-align: top;\n",
       "    }\n",
       "\n",
       "    .dataframe thead th {\n",
       "        text-align: right;\n",
       "    }\n",
       "</style>\n",
       "<table border=\"1\" class=\"dataframe\">\n",
       "  <thead>\n",
       "    <tr style=\"text-align: right;\">\n",
       "      <th></th>\n",
       "      <th>filename</th>\n",
       "      <th>fold</th>\n",
       "      <th>event</th>\n",
       "      <th>event_id</th>\n",
       "      <th>esc10</th>\n",
       "    </tr>\n",
       "  </thead>\n",
       "  <tbody>\n",
       "    <tr>\n",
       "      <th>0</th>\n",
       "      <td>1-100032-A-0.wav</td>\n",
       "      <td>1</td>\n",
       "      <td>dog</td>\n",
       "      <td>0</td>\n",
       "      <td>True</td>\n",
       "    </tr>\n",
       "    <tr>\n",
       "      <th>1</th>\n",
       "      <td>1-110389-A-0.wav</td>\n",
       "      <td>1</td>\n",
       "      <td>dog</td>\n",
       "      <td>0</td>\n",
       "      <td>True</td>\n",
       "    </tr>\n",
       "    <tr>\n",
       "      <th>2</th>\n",
       "      <td>1-116765-A-41.wav</td>\n",
       "      <td>1</td>\n",
       "      <td>chainsaw</td>\n",
       "      <td>1</td>\n",
       "      <td>True</td>\n",
       "    </tr>\n",
       "    <tr>\n",
       "      <th>3</th>\n",
       "      <td>1-17150-A-12.wav</td>\n",
       "      <td>1</td>\n",
       "      <td>crackling_fire</td>\n",
       "      <td>2</td>\n",
       "      <td>True</td>\n",
       "    </tr>\n",
       "    <tr>\n",
       "      <th>4</th>\n",
       "      <td>1-172649-A-40.wav</td>\n",
       "      <td>1</td>\n",
       "      <td>helicopter</td>\n",
       "      <td>3</td>\n",
       "      <td>True</td>\n",
       "    </tr>\n",
       "  </tbody>\n",
       "</table>\n",
       "</div>"
      ],
      "text/plain": [
       "            filename  fold           event  event_id  esc10\n",
       "0   1-100032-A-0.wav     1             dog         0   True\n",
       "1   1-110389-A-0.wav     1             dog         0   True\n",
       "2  1-116765-A-41.wav     1        chainsaw         1   True\n",
       "3   1-17150-A-12.wav     1  crackling_fire         2   True\n",
       "4  1-172649-A-40.wav     1      helicopter         3   True"
      ]
     },
     "execution_count": 45,
     "metadata": {},
     "output_type": "execute_result"
    }
   ],
   "source": [
    "esc_10.head(5)"
   ]
  },
  {
   "cell_type": "code",
   "execution_count": 46,
   "id": "fd609da6",
   "metadata": {},
   "outputs": [
    {
     "name": "stderr",
     "output_type": "stream",
     "text": [
      "100%|██████████| 400/400 [00:00<00:00, 480.65it/s]"
     ]
    },
    {
     "name": "stdout",
     "output_type": "stream",
     "text": [
      "short files count  66\n",
      "short files:  ['1-100032-A-0.wav', '1-110389-A-0.wav', '1-26143-A-21.wav', '1-27724-A-1.wav', '1-29680-A-21.wav', '1-31748-A-21.wav', '1-34119-A-1.wav', '1-34119-B-1.wav', '1-44831-A-1.wav', '1-47273-A-21.wav', '1-47274-A-21.wav', '1-54505-A-21.wav', '1-59324-A-21.wav', '1-81883-A-21.wav', '2-109505-A-21.wav', '2-118072-A-0.wav', '2-118964-A-0.wav', '2-119102-A-21.wav', '2-128631-A-21.wav', '2-130978-A-21.wav', '2-130979-A-21.wav', '2-135728-A-38.wav', '2-141584-A-38.wav', '2-28314-A-12.wav', '2-28314-B-12.wav', '2-65750-A-1.wav', '2-82538-A-21.wav', '2-95258-A-1.wav', '2-96460-A-1.wav', '3-107219-A-1.wav', '3-137152-A-1.wav', '3-142601-A-21.wav', '3-142605-A-21.wav', '3-143119-A-21.wav', '3-148330-A-21.wav', '3-149189-A-1.wav', '3-150231-A-21.wav', '3-154926-A-40.wav', '3-156558-A-21.wav', '3-157187-A-12.wav', '3-163459-A-0.wav', '3-170015-A-0.wav', '3-170377-A-38.wav', '3-171012-A-38.wav', '3-187710-A-11.wav', '4-156843-A-21.wav', '4-161579-A-40.wav', '4-164064-A-1.wav', '4-164064-B-1.wav', '4-164064-C-1.wav', '4-167642-A-21.wav', '4-170078-A-1.wav', '4-171519-A-21.wav', '4-182395-A-0.wav', '4-183487-A-1.wav', '4-185415-A-21.wav', '4-188033-A-38.wav', '4-191327-A-38.wav', '5-187979-A-21.wav', '5-210571-A-38.wav', '5-220026-A-21.wav', '5-220027-A-21.wav', '5-221593-A-21.wav', '5-231762-A-0.wav', '5-233160-A-1.wav', '5-9032-A-0.wav']\n"
     ]
    },
    {
     "name": "stderr",
     "output_type": "stream",
     "text": [
      "\n"
     ]
    }
   ],
   "source": [
    "esc_raw_path_out = '/home/alhasan/workdir/SED/data/ESC-50/raw/no_silence/audio_16k'\n",
    "make_valid_path(esc_raw_path_out, is_dir=True, exist_ok=True)\n",
    "short_files = []\n",
    "for i in tqdm(range(len(esc_10))):\n",
    "    audio_name = esc_10.iloc[i]['filename']\n",
    "    audio_path_in = os.path.join(esc_raw_path_in, audio_name)\n",
    "    audio_path_out = os.path.join(esc_raw_path_out, audio_name)\n",
    "    audio_collected, sample_rate = remove_silence(audio_path_in, audio_path_out, frame_duration_ms = 20,padding= 100, vad_level=0)\n",
    "    float_audio = byte_to_float(audio_collected)\n",
    "    wave_len =  get_wav_len(float_audio, sample_rate)\n",
    "    if wave_len < 2500:\n",
    "        short_files.append(audio_name)\n",
    "\n",
    "print(\"short files count \", len(short_files))\n",
    "print(\"short files: \", short_files)\n",
    "\n",
    " "
   ]
  },
  {
   "cell_type": "markdown",
   "id": "6019b4e3",
   "metadata": {},
   "source": [
    "### Split esc-10 to two classes"
   ]
  },
  {
   "cell_type": "code",
   "execution_count": 47,
   "id": "77530cd9",
   "metadata": {},
   "outputs": [],
   "source": [
    "esc10 = pd.read_csv('/home/alhasan/workdir/SED/data/ESC-50/esc10.csv')\n",
    "grp_h = ['helicopter', 'rain', 'sea_waves', 'crackling_fire', 'chainsaw']"
   ]
  },
  {
   "cell_type": "code",
   "execution_count": 48,
   "id": "5bded3c9",
   "metadata": {},
   "outputs": [
    {
     "name": "stderr",
     "output_type": "stream",
     "text": [
      "/tmp/ipykernel_1201104/1391282168.py:3: SettingWithCopyWarning: \n",
      "A value is trying to be set on a copy of a slice from a DataFrame.\n",
      "Try using .loc[row_indexer,col_indexer] = value instead\n",
      "\n",
      "See the caveats in the documentation: https://pandas.pydata.org/pandas-docs/stable/user_guide/indexing.html#returning-a-view-versus-a-copy\n",
      "  esc10_H['event_id_5'] = esc10_H['event_id'].apply(esc_h_labels.index)\n"
     ]
    }
   ],
   "source": [
    "esc10_H = esc_10.loc[esc10['event'].isin(grp_h)]\n",
    "esc_h_labels = list(esc10_H['event_id'].unique())\n",
    "esc10_H['event_id_5'] = esc10_H['event_id'].apply(esc_h_labels.index)"
   ]
  },
  {
   "cell_type": "code",
   "execution_count": 49,
   "id": "ad06a97a",
   "metadata": {},
   "outputs": [
    {
     "data": {
      "text/html": [
       "<div>\n",
       "<style scoped>\n",
       "    .dataframe tbody tr th:only-of-type {\n",
       "        vertical-align: middle;\n",
       "    }\n",
       "\n",
       "    .dataframe tbody tr th {\n",
       "        vertical-align: top;\n",
       "    }\n",
       "\n",
       "    .dataframe thead th {\n",
       "        text-align: right;\n",
       "    }\n",
       "</style>\n",
       "<table border=\"1\" class=\"dataframe\">\n",
       "  <thead>\n",
       "    <tr style=\"text-align: right;\">\n",
       "      <th></th>\n",
       "      <th>filename</th>\n",
       "      <th>fold</th>\n",
       "      <th>event</th>\n",
       "      <th>event_id</th>\n",
       "      <th>esc10</th>\n",
       "      <th>event_id_5</th>\n",
       "    </tr>\n",
       "  </thead>\n",
       "  <tbody>\n",
       "    <tr>\n",
       "      <th>2</th>\n",
       "      <td>1-116765-A-41.wav</td>\n",
       "      <td>1</td>\n",
       "      <td>chainsaw</td>\n",
       "      <td>1</td>\n",
       "      <td>True</td>\n",
       "      <td>0</td>\n",
       "    </tr>\n",
       "    <tr>\n",
       "      <th>3</th>\n",
       "      <td>1-17150-A-12.wav</td>\n",
       "      <td>1</td>\n",
       "      <td>crackling_fire</td>\n",
       "      <td>2</td>\n",
       "      <td>True</td>\n",
       "      <td>1</td>\n",
       "    </tr>\n",
       "    <tr>\n",
       "      <th>4</th>\n",
       "      <td>1-172649-A-40.wav</td>\n",
       "      <td>1</td>\n",
       "      <td>helicopter</td>\n",
       "      <td>3</td>\n",
       "      <td>True</td>\n",
       "      <td>2</td>\n",
       "    </tr>\n",
       "  </tbody>\n",
       "</table>\n",
       "</div>"
      ],
      "text/plain": [
       "            filename  fold           event  event_id  esc10  event_id_5\n",
       "2  1-116765-A-41.wav     1        chainsaw         1   True           0\n",
       "3   1-17150-A-12.wav     1  crackling_fire         2   True           1\n",
       "4  1-172649-A-40.wav     1      helicopter         3   True           2"
      ]
     },
     "execution_count": 49,
     "metadata": {},
     "output_type": "execute_result"
    }
   ],
   "source": [
    "esc10_H.head(3)"
   ]
  },
  {
   "cell_type": "code",
   "execution_count": 50,
   "id": "5567b928",
   "metadata": {},
   "outputs": [
    {
     "name": "stderr",
     "output_type": "stream",
     "text": [
      "/tmp/ipykernel_1201104/70753375.py:3: SettingWithCopyWarning: \n",
      "A value is trying to be set on a copy of a slice from a DataFrame.\n",
      "Try using .loc[row_indexer,col_indexer] = value instead\n",
      "\n",
      "See the caveats in the documentation: https://pandas.pydata.org/pandas-docs/stable/user_guide/indexing.html#returning-a-view-versus-a-copy\n",
      "  esc10_P['event_id_5'] = esc10_P['event_id'].apply(esc_p_labels.index)\n"
     ]
    }
   ],
   "source": [
    "esc10_P = esc_10.loc[~esc10['event'].isin(grp_h)]\n",
    "esc_p_labels = list(esc10_P['event_id'].unique())\n",
    "esc10_P['event_id_5'] = esc10_P['event_id'].apply(esc_p_labels.index)"
   ]
  },
  {
   "cell_type": "code",
   "execution_count": 51,
   "id": "6adc559d",
   "metadata": {},
   "outputs": [
    {
     "data": {
      "text/html": [
       "<div>\n",
       "<style scoped>\n",
       "    .dataframe tbody tr th:only-of-type {\n",
       "        vertical-align: middle;\n",
       "    }\n",
       "\n",
       "    .dataframe tbody tr th {\n",
       "        vertical-align: top;\n",
       "    }\n",
       "\n",
       "    .dataframe thead th {\n",
       "        text-align: right;\n",
       "    }\n",
       "</style>\n",
       "<table border=\"1\" class=\"dataframe\">\n",
       "  <thead>\n",
       "    <tr style=\"text-align: right;\">\n",
       "      <th></th>\n",
       "      <th>filename</th>\n",
       "      <th>fold</th>\n",
       "      <th>event</th>\n",
       "      <th>event_id</th>\n",
       "      <th>esc10</th>\n",
       "      <th>event_id_5</th>\n",
       "    </tr>\n",
       "  </thead>\n",
       "  <tbody>\n",
       "    <tr>\n",
       "      <th>0</th>\n",
       "      <td>1-100032-A-0.wav</td>\n",
       "      <td>1</td>\n",
       "      <td>dog</td>\n",
       "      <td>0</td>\n",
       "      <td>True</td>\n",
       "      <td>0</td>\n",
       "    </tr>\n",
       "    <tr>\n",
       "      <th>1</th>\n",
       "      <td>1-110389-A-0.wav</td>\n",
       "      <td>1</td>\n",
       "      <td>dog</td>\n",
       "      <td>0</td>\n",
       "      <td>True</td>\n",
       "      <td>0</td>\n",
       "    </tr>\n",
       "    <tr>\n",
       "      <th>17</th>\n",
       "      <td>1-187207-A-20.wav</td>\n",
       "      <td>1</td>\n",
       "      <td>crying_baby</td>\n",
       "      <td>5</td>\n",
       "      <td>True</td>\n",
       "      <td>1</td>\n",
       "    </tr>\n",
       "  </tbody>\n",
       "</table>\n",
       "</div>"
      ],
      "text/plain": [
       "             filename  fold        event  event_id  esc10  event_id_5\n",
       "0    1-100032-A-0.wav     1          dog         0   True           0\n",
       "1    1-110389-A-0.wav     1          dog         0   True           0\n",
       "17  1-187207-A-20.wav     1  crying_baby         5   True           1"
      ]
     },
     "execution_count": 51,
     "metadata": {},
     "output_type": "execute_result"
    }
   ],
   "source": [
    "esc10_P.head(3)"
   ]
  },
  {
   "cell_type": "code",
   "execution_count": 52,
   "id": "51d22016",
   "metadata": {},
   "outputs": [],
   "source": [
    "esc10_H.to_csv('/home/alhasan/workdir/SED/data/ESC-50/esc10_H.csv')\n",
    "esc10_P.to_csv('/home/alhasan/workdir/SED/data/ESC-50/esc10_P.csv')\n"
   ]
  }
 ],
 "metadata": {
  "kernelspec": {
   "display_name": "Python 3 (ipykernel)",
   "language": "python",
   "name": "python3"
  },
  "language_info": {
   "codemirror_mode": {
    "name": "ipython",
    "version": 3
   },
   "file_extension": ".py",
   "mimetype": "text/x-python",
   "name": "python",
   "nbconvert_exporter": "python",
   "pygments_lexer": "ipython3",
   "version": "3.8.12"
  }
 },
 "nbformat": 4,
 "nbformat_minor": 5
}
