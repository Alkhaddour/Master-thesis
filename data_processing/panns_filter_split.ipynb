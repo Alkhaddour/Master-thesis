{
 "cells": [
  {
   "cell_type": "code",
   "execution_count": 1,
   "id": "64b756cd",
   "metadata": {},
   "outputs": [],
   "source": [
    "import sys\n",
    "\n",
    "from sklearn.model_selection import train_test_split\n",
    "\n",
    "sys.path.append('../')\n",
    "import pandas as pd\n",
    "from tqdm import tqdm\n",
    "from utils.basic_utils import dump_pickle, load_pickle\n",
    "from utils.display_utils import info\n",
    "import gc\n",
    "import numpy as np"
   ]
  },
  {
   "cell_type": "code",
   "execution_count": 156,
   "id": "ba33c91b",
   "metadata": {},
   "outputs": [],
   "source": [
    "# mark = \"speech,music,vehicle\" max_per_class=6200, 1200\n",
    "# mark ='cat,cough,laughter'    max_per_class=75, 25\n",
    "# mark ='cat,cough,laughter,aircraft' max_per_class=75, 25\n",
    "mark ='esc10(as)'\n",
    "split='test'\n"
   ]
  },
  {
   "cell_type": "code",
   "execution_count": 157,
   "id": "f10140d7",
   "metadata": {},
   "outputs": [],
   "source": [
    "# 29_classes = 33 classes + Silence + Speech - 'Glass' - 'Meow' - 'Pig' - 'Wild animals' - 'Silence' - 'Tap' - 'Scratch'\n",
    "classes28 =  ['Sneeze', 'Dog', 'Clock',  'Baby cry, infant cry', 'Chicken, rooster', 'Rain', 'Waves, surf', 'Firecracker', 'Helicopter', 'Chainsaw'] \n",
    "src_classes = ['Speech', 'Music', 'Baby cry, infant cry', 'Cough', 'Sneeze', 'Walk, footsteps', 'Clapping', 'Cheering', 'Dog', 'Cat', 'Cowbell',  'Chicken, rooster', 'Frog', 'Wind', 'Rain', 'Raindrop', 'Rain on surface', 'Ocean', 'Waves, surf', 'Vehicle', 'Helicopter', 'Engine', 'Chainsaw', 'Water tap, faucet', 'Keys jangling', 'Clock', 'Firecracker', 'Squeal']\n",
    "as_label_idx = pd.read_csv('/home/alhasan/workdir/SED/data/AudioSet/class_labels_indices.csv')\n",
    "as_label_idx = as_label_idx.loc[as_label_idx['display_name'].isin(classes28)]\n",
    "classes28_idx = as_label_idx['index'].to_list()\n",
    "\n",
    "\n",
    "labels_dict = load_pickle('/home/alhasan/workdir/SED/data/AudioSet/PANN_labels_all(new).pkl')['labels']\n",
    "embeddings_dict = load_pickle('/home/alhasan/workdir/SED/data/AudioSet/openl3_embeddings_500_512.pkl')['embeddings']\n",
    "files = [f for f in embeddings_dict.keys() if f in labels_dict.keys()]"
   ]
  },
  {
   "cell_type": "code",
   "execution_count": 158,
   "id": "a531e112",
   "metadata": {},
   "outputs": [
    {
     "data": {
      "text/html": [
       "<div>\n",
       "<style scoped>\n",
       "    .dataframe tbody tr th:only-of-type {\n",
       "        vertical-align: middle;\n",
       "    }\n",
       "\n",
       "    .dataframe tbody tr th {\n",
       "        vertical-align: top;\n",
       "    }\n",
       "\n",
       "    .dataframe thead th {\n",
       "        text-align: right;\n",
       "    }\n",
       "</style>\n",
       "<table border=\"1\" class=\"dataframe\">\n",
       "  <thead>\n",
       "    <tr style=\"text-align: right;\">\n",
       "      <th></th>\n",
       "      <th>index</th>\n",
       "      <th>mid</th>\n",
       "      <th>display_name</th>\n",
       "    </tr>\n",
       "  </thead>\n",
       "  <tbody>\n",
       "    <tr>\n",
       "      <th>23</th>\n",
       "      <td>23</td>\n",
       "      <td>/t/dd00002</td>\n",
       "      <td>Baby cry, infant cry</td>\n",
       "    </tr>\n",
       "    <tr>\n",
       "      <th>49</th>\n",
       "      <td>49</td>\n",
       "      <td>/m/01hsr_</td>\n",
       "      <td>Sneeze</td>\n",
       "    </tr>\n",
       "    <tr>\n",
       "      <th>74</th>\n",
       "      <td>74</td>\n",
       "      <td>/m/0bt9lr</td>\n",
       "      <td>Dog</td>\n",
       "    </tr>\n",
       "    <tr>\n",
       "      <th>99</th>\n",
       "      <td>99</td>\n",
       "      <td>/m/09b5t</td>\n",
       "      <td>Chicken, rooster</td>\n",
       "    </tr>\n",
       "    <tr>\n",
       "      <th>289</th>\n",
       "      <td>289</td>\n",
       "      <td>/m/06mb1</td>\n",
       "      <td>Rain</td>\n",
       "    </tr>\n",
       "    <tr>\n",
       "      <th>295</th>\n",
       "      <td>295</td>\n",
       "      <td>/m/034srq</td>\n",
       "      <td>Waves, surf</td>\n",
       "    </tr>\n",
       "    <tr>\n",
       "      <th>339</th>\n",
       "      <td>339</td>\n",
       "      <td>/m/09ct_</td>\n",
       "      <td>Helicopter</td>\n",
       "    </tr>\n",
       "    <tr>\n",
       "      <th>347</th>\n",
       "      <td>347</td>\n",
       "      <td>/m/01j4z9</td>\n",
       "      <td>Chainsaw</td>\n",
       "    </tr>\n",
       "    <tr>\n",
       "      <th>406</th>\n",
       "      <td>406</td>\n",
       "      <td>/m/01x3z</td>\n",
       "      <td>Clock</td>\n",
       "    </tr>\n",
       "    <tr>\n",
       "      <th>433</th>\n",
       "      <td>433</td>\n",
       "      <td>/g/122z_qxw</td>\n",
       "      <td>Firecracker</td>\n",
       "    </tr>\n",
       "  </tbody>\n",
       "</table>\n",
       "</div>"
      ],
      "text/plain": [
       "     index          mid          display_name\n",
       "23      23   /t/dd00002  Baby cry, infant cry\n",
       "49      49    /m/01hsr_                Sneeze\n",
       "74      74    /m/0bt9lr                   Dog\n",
       "99      99     /m/09b5t      Chicken, rooster\n",
       "289    289     /m/06mb1                  Rain\n",
       "295    295    /m/034srq           Waves, surf\n",
       "339    339     /m/09ct_            Helicopter\n",
       "347    347    /m/01j4z9              Chainsaw\n",
       "406    406     /m/01x3z                 Clock\n",
       "433    433  /g/122z_qxw           Firecracker"
      ]
     },
     "execution_count": 158,
     "metadata": {},
     "output_type": "execute_result"
    }
   ],
   "source": [
    "as_label_idx"
   ]
  },
  {
   "cell_type": "code",
   "execution_count": 159,
   "id": "26866681",
   "metadata": {},
   "outputs": [],
   "source": [
    "# src_classes=classes28"
   ]
  },
  {
   "cell_type": "code",
   "execution_count": 160,
   "id": "f209e900",
   "metadata": {},
   "outputs": [
    {
     "data": {
      "text/plain": [
       "[23, 49, 74, 99, 289, 295, 339, 347, 406, 433]"
      ]
     },
     "execution_count": 160,
     "metadata": {},
     "output_type": "execute_result"
    }
   ],
   "source": [
    "classes28_idx"
   ]
  },
  {
   "cell_type": "code",
   "execution_count": 161,
   "id": "5877a229",
   "metadata": {},
   "outputs": [],
   "source": [
    "train_files=[]\n",
    "test_files=[]"
   ]
  },
  {
   "cell_type": "code",
   "execution_count": 162,
   "id": "4096cb4c",
   "metadata": {},
   "outputs": [
    {
     "name": "stdout",
     "output_type": "stream",
     "text": [
      "    0 samples in class Speech \n",
      " 5379 samples in class Music \n",
      "   42 samples in class Baby cry, infant cry \n",
      "   40 samples in class Cough \n",
      "   37 samples in class Sneeze \n",
      "   50 samples in class Walk, footsteps \n",
      "   48 samples in class Clapping \n",
      "   57 samples in class Cheering \n",
      "  255 samples in class Dog \n",
      "  354 samples in class Cat \n",
      "   50 samples in class Cowbell \n",
      "   52 samples in class Chicken, rooster \n",
      "   51 samples in class Frog \n",
      "  460 samples in class Wind \n",
      "  294 samples in class Rain \n",
      "   54 samples in class Raindrop \n",
      "   48 samples in class Rain on surface \n",
      "   55 samples in class Ocean \n",
      "   58 samples in class Waves, surf \n",
      " 1091 samples in class Vehicle \n",
      "   48 samples in class Helicopter \n",
      "  463 samples in class Engine \n",
      "   54 samples in class Chainsaw \n",
      "   61 samples in class Water tap, faucet \n",
      "   53 samples in class Keys jangling \n",
      "   93 samples in class Clock \n",
      "   37 samples in class Firecracker \n",
      "  153 samples in class Squeal \n"
     ]
    }
   ],
   "source": [
    "for c in src_classes:\n",
    "    # get all files of c\n",
    "    s_files = [f for f in files if f.split(\"/\")[0] == c]\n",
    "    # split them into train_test\n",
    "    cnt_c = len(s_files)\n",
    "    print(f\"{cnt_c:5d} samples in class {c} \")"
   ]
  },
  {
   "cell_type": "code",
   "execution_count": 163,
   "id": "18db12ab",
   "metadata": {},
   "outputs": [
    {
     "name": "stdout",
     "output_type": "stream",
     "text": [
      "keeping 0 files from class Speech\n",
      "keeping 5379 files from class Music\n",
      "keeping 42 files from class Baby cry, infant cry\n",
      "keeping 40 files from class Cough\n",
      "keeping 37 files from class Sneeze\n",
      "keeping 50 files from class Walk, footsteps\n",
      "keeping 48 files from class Clapping\n",
      "keeping 57 files from class Cheering\n",
      "keeping 255 files from class Dog\n",
      "keeping 354 files from class Cat\n",
      "keeping 50 files from class Cowbell\n",
      "keeping 52 files from class Chicken, rooster\n",
      "keeping 51 files from class Frog\n",
      "keeping 460 files from class Wind\n",
      "keeping 294 files from class Rain\n",
      "keeping 54 files from class Raindrop\n",
      "keeping 48 files from class Rain on surface\n",
      "keeping 55 files from class Ocean\n",
      "keeping 58 files from class Waves, surf\n",
      "keeping 1091 files from class Vehicle\n",
      "keeping 48 files from class Helicopter\n",
      "keeping 463 files from class Engine\n",
      "keeping 54 files from class Chainsaw\n",
      "keeping 61 files from class Water tap, faucet\n",
      "keeping 53 files from class Keys jangling\n",
      "keeping 93 files from class Clock\n",
      "keeping 37 files from class Firecracker\n",
      "keeping 153 files from class Squeal\n",
      "# train files = 7088\n",
      "# test files = 2349\n"
     ]
    }
   ],
   "source": [
    "for c in src_classes:\n",
    "    # get all files of c\n",
    "    s_files = [f for f in files if f.split(\"/\")[0] == c]\n",
    "    # split them into train_test\n",
    "    cnt_c = len(s_files)\n",
    "    test_cnt = cnt_c // 4\n",
    "    # append train to train list and test to test list\n",
    "    print(f\"keeping {cnt_c} files from class {c}\")\n",
    "    train_files += s_files[:-test_cnt]\n",
    "    test_files += s_files[-test_cnt:]\n",
    "print(f\"# train files = {len(train_files)}\")\n",
    "print(f\"# test files = {len(test_files)}\")"
   ]
  },
  {
   "cell_type": "code",
   "execution_count": 164,
   "id": "33e68c66",
   "metadata": {},
   "outputs": [],
   "source": [
    "embeddings_train =[]\n",
    "as_labels_train = []"
   ]
  },
  {
   "cell_type": "code",
   "execution_count": 165,
   "id": "79397d1d",
   "metadata": {},
   "outputs": [],
   "source": [
    "if split =='train':\n",
    "    f_lst = train_files\n",
    "    max_per_class=60  \n",
    "\n",
    "else:\n",
    "    f_lst = test_files\n",
    "    max_per_class=15\n",
    "\n"
   ]
  },
  {
   "cell_type": "code",
   "execution_count": 166,
   "id": "eb5fb8cd",
   "metadata": {},
   "outputs": [
    {
     "name": "stderr",
     "output_type": "stream",
     "text": [
      "100%|██████████| 2349/2349 [00:00<00:00, 142960.66it/s]"
     ]
    },
    {
     "name": "stdout",
     "output_type": "stream",
     "text": [
      "[2022-04-14 19:10:14.430203] -- len files labels: 44281\n",
      "[2022-04-14 19:10:14.430418] -- embeddings: 44281\n",
      "[2022-04-14 19:10:14.437849] -- len unique files labels: 266\n"
     ]
    },
    {
     "name": "stderr",
     "output_type": "stream",
     "text": [
      "\n"
     ]
    }
   ],
   "source": [
    "for f in tqdm(f_lst):\n",
    "#     n_segments = 175565\n",
    "    n_segments = min(len(embeddings_dict[f]), len(labels_dict[f]))\n",
    "    embeddings_train.append(embeddings_dict[f][:n_segments])\n",
    "    as_labels_train.append(labels_dict[f][:n_segments])\n",
    "\n",
    "# concatenate\n",
    "as_labels_train = np.concatenate(as_labels_train, axis=0)\n",
    "embeddings_train = np.concatenate(embeddings_train, axis=0)\n",
    "\n",
    "info(f\"len files labels: {len(as_labels_train)}\")\n",
    "info(f\"embeddings: {len(embeddings_train)}\")\n",
    "info(f\"len unique files labels: {len(set(as_labels_train))}\")\n"
   ]
  },
  {
   "cell_type": "code",
   "execution_count": 167,
   "id": "046ca46c",
   "metadata": {},
   "outputs": [
    {
     "data": {
      "text/plain": [
       "0"
      ]
     },
     "execution_count": 167,
     "metadata": {},
     "output_type": "execute_result"
    }
   ],
   "source": [
    "len([1 for x in as_labels_train if x == 474])"
   ]
  },
  {
   "cell_type": "code",
   "execution_count": 168,
   "id": "8398da95",
   "metadata": {},
   "outputs": [
    {
     "name": "stdout",
     "output_type": "stream",
     "text": [
      "[2022-04-14 19:10:14.608213] -- Collecting G28...\n"
     ]
    },
    {
     "name": "stderr",
     "output_type": "stream",
     "text": [
      "100%|██████████| 44281/44281 [00:00<00:00, 427092.43it/s]"
     ]
    },
    {
     "name": "stdout",
     "output_type": "stream",
     "text": [
      "[2022-04-14 19:10:14.718477] -- samples to use: 134\n"
     ]
    },
    {
     "name": "stderr",
     "output_type": "stream",
     "text": [
      "\n"
     ]
    }
   ],
   "source": [
    " # train: 175565\n",
    "read_per_class={c:0 for c in set(classes28_idx)}\n",
    "\n",
    "classes_28_samples = []\n",
    "info (\"Collecting G28...\") \n",
    "for i in tqdm(range(len(as_labels_train))):\n",
    "    c=as_labels_train[i]\n",
    "    if c in classes28_idx and read_per_class[c]<max_per_class:\n",
    "        classes_28_samples.append(i)\n",
    "        read_per_class[c]+=1\n",
    "info(f\"samples to use: {len(classes_28_samples)}\")\n",
    "labels28_train = [as_labels_train[i] for i in classes_28_samples]\n",
    "embeddings28_train = [embeddings_train[i] for i in classes_28_samples]\n",
    "\n",
    "assert(len(set(labels28_train)) == len(classes28)), f\"Expected {len(classes28)} classes got {len(set(labels28_train))}\""
   ]
  },
  {
   "cell_type": "code",
   "execution_count": 169,
   "id": "a633eae5",
   "metadata": {},
   "outputs": [
    {
     "data": {
      "text/plain": [
       "[]"
      ]
     },
     "execution_count": 169,
     "metadata": {},
     "output_type": "execute_result"
    }
   ],
   "source": [
    "[x for x in set(classes28_idx) if x not in labels28_train]"
   ]
  },
  {
   "cell_type": "code",
   "execution_count": 170,
   "id": "35500929",
   "metadata": {},
   "outputs": [
    {
     "name": "stdout",
     "output_type": "stream",
     "text": [
      "[2022-04-14 19:10:14.983044] -- Numbre of labels in G28: 10\n",
      "[2022-04-14 19:10:14.983339] -- Numbre of samples in G28: 134\n"
     ]
    }
   ],
   "source": [
    "info(f\"Numbre of labels in G28: {len(set(labels28_train))}\")\n",
    "info(f\"Numbre of samples in G28: {len(classes_28_samples)}\")"
   ]
  },
  {
   "cell_type": "code",
   "execution_count": 171,
   "id": "6088d55d",
   "metadata": {},
   "outputs": [],
   "source": [
    "panns_dataset28_train = {'classes_28': classes28,\n",
    "                         'classes28_audioset_index': classes28_idx,\n",
    "                         'labels': labels28_train,\n",
    "                         'embeddings': embeddings28_train\n",
    "                        }"
   ]
  },
  {
   "cell_type": "code",
   "execution_count": 172,
   "id": "762e3875",
   "metadata": {},
   "outputs": [
    {
     "name": "stdout",
     "output_type": "stream",
     "text": [
      "[2022-04-14 19:10:15.200531] -- Saving G28 train to disk\n",
      "[2022-04-14 19:10:15.204334] -- done\n"
     ]
    }
   ],
   "source": [
    "info(\"Saving G28 train to disk\")\n",
    "ds28_path = f'/home/alhasan/workdir/SED/data/AudioSet/openl3_embeddings_500_512_panns(classes_{mark}_{split}).pkl'\n",
    "dump_pickle(panns_dataset28_train, ds28_path)\n",
    "info(\"done\")"
   ]
  },
  {
   "cell_type": "code",
   "execution_count": null,
   "id": "85d76ead",
   "metadata": {},
   "outputs": [],
   "source": []
  },
  {
   "cell_type": "code",
   "execution_count": 13,
   "id": "419687cd",
   "metadata": {},
   "outputs": [],
   "source": [
    "data = load_pickle('/home/alhasan/workdir/SED/data/AudioSet/openl3_embeddings_500_512_panns(classes_esc10(as)_train).pkl')"
   ]
  },
  {
   "cell_type": "code",
   "execution_count": 16,
   "id": "51906973",
   "metadata": {},
   "outputs": [
    {
     "data": {
      "text/plain": [
       "60"
      ]
     },
     "execution_count": 16,
     "metadata": {},
     "output_type": "execute_result"
    }
   ],
   "source": [
    "dd=data['labels']\n",
    "len([x for x in dd if x==74])"
   ]
  },
  {
   "cell_type": "code",
   "execution_count": 14,
   "id": "482f3993",
   "metadata": {},
   "outputs": [
    {
     "ename": "AttributeError",
     "evalue": "'list' object has no attribute 'keys'",
     "output_type": "error",
     "traceback": [
      "\u001b[0;31m---------------------------------------------------------------------------\u001b[0m",
      "\u001b[0;31mAttributeError\u001b[0m                            Traceback (most recent call last)",
      "\u001b[1;32m/home/alhasan/workdir/SED/data_processing/panns_filter_split.ipynb Cell 21'\u001b[0m in \u001b[0;36m<cell line: 1>\u001b[0;34m()\u001b[0m\n\u001b[0;32m----> <a href='vscode-notebook-cell:/home/alhasan/workdir/SED/data_processing/panns_filter_split.ipynb#ch0000020?line=0'>1</a>\u001b[0m lst \u001b[39m=\u001b[39m data[\u001b[39m'\u001b[39;49m\u001b[39membeddings\u001b[39;49m\u001b[39m'\u001b[39;49m]\u001b[39m.\u001b[39;49mkeys()\n\u001b[1;32m      <a href='vscode-notebook-cell:/home/alhasan/workdir/SED/data_processing/panns_filter_split.ipynb#ch0000020?line=1'>2</a>\u001b[0m lst \u001b[39m=\u001b[39m \u001b[39mlist\u001b[39m(\u001b[39mset\u001b[39m([l\u001b[39m.\u001b[39msplit(\u001b[39m'\u001b[39m\u001b[39m/\u001b[39m\u001b[39m'\u001b[39m)[\u001b[39m0\u001b[39m] \u001b[39mfor\u001b[39;00m l \u001b[39min\u001b[39;00m lst]))\n",
      "\u001b[0;31mAttributeError\u001b[0m: 'list' object has no attribute 'keys'"
     ]
    }
   ],
   "source": [
    "lst = data['embeddings'].keys()\n",
    "lst = list(set([l.split('/')[0] for l in lst]))"
   ]
  },
  {
   "cell_type": "code",
   "execution_count": 10,
   "id": "389faa84",
   "metadata": {},
   "outputs": [
    {
     "data": {
      "text/plain": [
       "['Scratch',\n",
       " 'Firecracker',\n",
       " 'Rain on surface',\n",
       " 'Clock',\n",
       " 'Cheering',\n",
       " 'Raindrop',\n",
       " 'Pig',\n",
       " 'Ocean',\n",
       " 'Chicken, rooster',\n",
       " 'Baby cry, infant cry',\n",
       " 'Sneeze',\n",
       " 'Squeal',\n",
       " 'Wind',\n",
       " 'Cat',\n",
       " 'Glass',\n",
       " 'Rain',\n",
       " 'Frog',\n",
       " 'Engine',\n",
       " 'Meow',\n",
       " 'Chainsaw',\n",
       " 'Dog',\n",
       " 'Cough',\n",
       " 'Walk, footsteps',\n",
       " 'Waves, surf',\n",
       " 'Wild animals',\n",
       " 'Tap',\n",
       " 'Music',\n",
       " 'Clapping',\n",
       " 'Water tap, faucet',\n",
       " 'Cowbell',\n",
       " 'Helicopter',\n",
       " 'Vehicle',\n",
       " 'Keys jangling']"
      ]
     },
     "execution_count": 10,
     "metadata": {},
     "output_type": "execute_result"
    }
   ],
   "source": [
    "lst"
   ]
  },
  {
   "cell_type": "code",
   "execution_count": null,
   "id": "fc7f5aeb",
   "metadata": {},
   "outputs": [],
   "source": []
  }
 ],
 "metadata": {
  "interpreter": {
   "hash": "cbf31710a13b3f828814fd14bbb297f0414df26fd4c4d0b3a66d9340eb05c999"
  },
  "kernelspec": {
   "display_name": "Python 3.8.12 ('py38')",
   "language": "python",
   "name": "python3"
  },
  "language_info": {
   "codemirror_mode": {
    "name": "ipython",
    "version": 3
   },
   "file_extension": ".py",
   "mimetype": "text/x-python",
   "name": "python",
   "nbconvert_exporter": "python",
   "pygments_lexer": "ipython3",
   "version": "3.8.12"
  }
 },
 "nbformat": 4,
 "nbformat_minor": 5
}
